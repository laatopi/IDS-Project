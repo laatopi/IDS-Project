{
 "cells": [
  {
   "cell_type": "code",
   "execution_count": null,
   "metadata": {
    "collapsed": true
   },
   "outputs": [],
   "source": [
    "lost_child = pd.DataFrame.from_csv((folder_path + 'syrjaytyneetnuoret.tsv'), sep=\"\\t\")\n",
    "lost_child .reset_index(inplace = True) \n",
    "#lost_child.reset_index(inplace = True) \n",
    "lost_child = lost_child.rename(columns={lost_child.columns.values[0]: 'country'})\n",
    "# Tiputetaan mies ja nais rivit, sekä vaihdetaan arvoiksi maiden oikeat nimet.\n",
    "for i, row in lost_child.iterrows():\n",
    "    if (row['country'][-2:] not in eu_country_codes[0].tolist()) or (row['country'][0] != 'T'):\n",
    "        lost_child.drop(i, inplace=True)\n",
    "    else:\n",
    "        lost_child.set_value(i, 'country', eu_country_codes[1].tolist()[ eu_country_codes[0].tolist().index(row['country'][-2:])].replace(\" \", \"\").rsplit(',', 1)[0])  \n",
    "# Otetaan pois : ja b ja p arvot, sekä resetetaan indeksi oikeaksi.\n",
    "for key,value in lost_child.loc[:, lost_child.columns != 'country'].iteritems():\n",
    "    for i, v in value.iteritems():\n",
    "        lost_child.at[i, key] = float(str(v).replace('b', '').replace('p', '').replace(':', '0').replace('e', '').replace('u', ''))\n",
    "lost_child.reset_index(drop = True, inplace = True)\n",
    "lost_child.head()\n",
    "\n",
    "eustat3_df  = pd.DataFrame(columns=['country', 'year'])\n",
    "\n",
    "for i, row in lost_child.iterrows():\n",
    "    country = row.tolist()[0:1][0]\n",
    "    for i in range(0, len(row.tolist()[1:])):\n",
    "        value = row.tolist()[1:][i]\n",
    "        year = row.keys().tolist()[1:][i]\n",
    "        eustat3_df = eustat3_df.append({'country': country, 'year': year, 'economy_equality' : value}, ignore_index=True)\n",
    "eustat3_df       "
   ]
  },
  {
   "cell_type": "code",
   "execution_count": null,
   "metadata": {
    "collapsed": true
   },
   "outputs": [],
   "source": [
    "-"
   ]
  }
 ],
 "metadata": {
  "kernelspec": {
   "display_name": "Python 3",
   "language": "python",
   "name": "python3"
  },
  "language_info": {
   "codemirror_mode": {
    "name": "ipython",
    "version": 3
   },
   "file_extension": ".py",
   "mimetype": "text/x-python",
   "name": "python",
   "nbconvert_exporter": "python",
   "pygments_lexer": "ipython3",
   "version": "3.6.3"
  }
 },
 "nbformat": 4,
 "nbformat_minor": 2
}
